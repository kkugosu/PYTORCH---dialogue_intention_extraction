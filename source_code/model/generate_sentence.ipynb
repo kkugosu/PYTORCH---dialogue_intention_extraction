{
 "cells": [
  {
   "cell_type": "code",
   "execution_count": 21,
   "metadata": {
    "collapsed": true
   },
   "outputs": [],
   "source": [
    "import numpy as np\n",
    "import re\n",
    "import json\n",
    "import torch.utils.data\n",
    "from torch.utils.data import DataLoader\n",
    "import io,os\n",
    "from torch import nn\n",
    "from gensim.models import word2vec\n",
    "from torch.nn.utils.rnn import pad_sequence\n",
    "from torch import optim\n",
    "from torch.autograd import Variable\n",
    "from torchtext import data\n",
    "\n",
    "BATCH_SIZE = 100\n",
    "device = torch.device(\"cuda\")\n",
    "\n",
    "tag_to_ix = {'start_tag':0,'stop_tag':29,'pad_tag':30}\n",
    "\n",
    "working_path = '/home/jongsu/jupyter/pytorch_dialogue_ie/'\n",
    "WV_PATH = '/home/jongsu/jupyter/pytorch_dialogue_ie/parameter/dialogue_wv'\n"
   ]
  },
  {
   "cell_type": "code",
   "execution_count": 22,
   "metadata": {
    "collapsed": true
   },
   "outputs": [],
   "source": [
    "hidden_state_size = 100\n",
    "batch_size = 100"
   ]
  },
  {
   "cell_type": "code",
   "execution_count": 24,
   "metadata": {
    "collapsed": false
   },
   "outputs": [],
   "source": [
    "class encoder(nn.Module):\n",
    "    def __init__(self, hidden_state_size, batch_size, is_tag_, tag_size, bidir):\n",
    "        super(encoder, self).__init__()\n",
    "        self.h_size = hidden_state_size\n",
    "        self.is_tag = is_tag_\n",
    "        self.t_size = tag_size\n",
    "        self.bid = bidir\n",
    "        self.gru = nn.GRU(self.h_size, self.h_size, bidirectional = self.bid)\n",
    "        self.embed_tag = nn.Embedding(self.tag_size, self.h_size)\n",
    "        self.combinput = nn.Linear(2*self.h_size, self.h_size)\n",
    "        \n",
    "    def forward(self, input_, input_tag, hidden_state):\n",
    "        if self.is_tag == False:\n",
    "            output, hidden_state = self.gru(input_, hidden_state)\n",
    "        else:\n",
    "            emb_tag = self.embed_tag(input_tag)\n",
    "            input_ = self.combinput(torch.cat(emb_tag, input_))\n",
    "            output, hidden_state = self.gru(input_, hidden_state)\n",
    "        return output, hidden_state\n",
    "    \n",
    "    def init_hidden():\n",
    "        hidden = torch.zeros(100,100)\n",
    "        return hidden\n",
    "    \n",
    "    \n",
    "    \n",
    "class decoder(nn.Module): #target padding sos\n",
    "    def __init__(self, hidden_size, batch_size):\n",
    "        super(decoder, self).__init__()\n",
    "        self.gru = nn.GRU(hidden_state_size, hidden_state_size)\n",
    "        \n",
    "    def forward(self, input_, hidden_state):\n",
    "        output, hidden_state = self.gru(input_, hidden_state)\n",
    "        return output, hidden_state\n",
    "    \n",
    "     def init_hidden():\n",
    "        hidden = torch.zeros(100,100)\n",
    "        return hidden"
   ]
  },
  {
   "cell_type": "code",
   "execution_count": 25,
   "metadata": {
    "collapsed": true
   },
   "outputs": [],
   "source": [
    "encoder1 = encoder(hidden_state_size,\n",
    "                   batch_size,\n",
    "                   is_tag_ = False,\n",
    "                   tag_size = 31, \n",
    "                   bidir = True\n",
    "                  )\n",
    "\n",
    "encoder2 = encoder(hidden_state_size,\n",
    "                   batch_size,\n",
    "                   is_tag_ = True,\n",
    "                   tag_size = 31, \n",
    "                   bidir = True\n",
    "                  )\n",
    "\n",
    "decoder1 = decoder(hidden_state_size,\n",
    "                   batch_size\n",
    "                  )"
   ]
  },
  {
   "cell_type": "code",
   "execution_count": null,
   "metadata": {
    "collapsed": true
   },
   "outputs": [],
   "source": [
    "\n",
    "    \n",
    "for batch_data in batchload(train_data, repeat=True, batchsize = batch_size, data_seq = dataseq ):\n",
    "    #load txt data from jsonfile\n",
    "\n",
    "    shared_model.zero_grad()\n",
    "    comp_model.zero_grad()\n",
    "\n",
    "    new_dial, new_tag, dial_leng = all_preprocess(shared_model, batch_data) #we need split batch_data\n",
    "    #load batch*(dialogue_length*sent_vec(float)) -> new_dial\n",
    "    #load batch*tag -> new_tag\n",
    "    #load batch * dial_leng\n",
    "\n",
    "    loss = comp_model.neg_log_likelihood(make_mask(dial_leng), new_dial, new_tag, BATCH_SIZE)\n",
    "    loss,newary_ = loss_filtering(loss,filtering_value, newary_,k)\n",
    "    batch_loss = torch.sum(loss)\n",
    "    batch_loss.backward(retain_graph=False)\n",
    "    optimizer1.step()\n",
    "    optimizer2.step()\n",
    "\n",
    "    unuselist = [new_dial, new_tag, dial_leng]\n",
    "    del unuselist"
   ]
  },
  {
   "cell_type": "code",
   "execution_count": 18,
   "metadata": {
    "collapsed": true
   },
   "outputs": [],
   "source": [
    "def train_func(train_data, shared_model, comp_model, dataseq, filtering_value, iter_num, batch_size, learning_rate):\n",
    "    \"\"\"\n",
    "    Args:\n",
    "            train_data: \n",
    "                train data\n",
    "                \n",
    "            shared_model:\n",
    "                shared model\n",
    "                \n",
    "            comp_model:\n",
    "                comp model\n",
    "                \n",
    "            dataseq:\n",
    "                data sort sequence\n",
    "                \n",
    "            filtering_value:\n",
    "                allowed maximum loss\n",
    "                \n",
    "            iter_num:\n",
    "                train iterate\n",
    "                \n",
    "            batch_size:\n",
    "                batchsize\n",
    "            \n",
    "            learning_rate:\n",
    "                learning_rate\n",
    "\n",
    "    Yields:\n",
    "            newary:\n",
    "                not trained data\n",
    "                which has loss bigger then filtering value\n",
    "    \n",
    "    \"\"\"\n",
    "    \n",
    "    optimizer1 = optim.SGD(shared_model.parameters(), lr= learning_rate, weight_decay=1e-4)\n",
    "    optimizer2 = optim.SGD(comp_model.parameters(), lr= learning_rate, weight_decay=1e-4)\n",
    "    \n",
    "    newary_ = []\n",
    "    k = 0\n",
    "    for batch_data in batchload(train_data, repeat=True, batchsize = batch_size, data_seq = dataseq ):\n",
    "        #load txt data from jsonfile\n",
    "\n",
    "        shared_model.zero_grad()\n",
    "        comp_model.zero_grad()\n",
    "        \n",
    "        new_dial, new_tag, dial_leng = all_preprocess(shared_model, batch_data) #we need split batch_data\n",
    "        #load batch*(dialogue_length*sent_vec(float)) -> new_dial\n",
    "        #load batch*tag -> new_tag\n",
    "        #load batch * dial_leng\n",
    "\n",
    "        loss = comp_model.neg_log_likelihood(make_mask(dial_leng), new_dial, new_tag, BATCH_SIZE)\n",
    "        loss,newary_ = loss_filtering(loss,filtering_value, newary_,k)\n",
    "        batch_loss = torch.sum(loss)\n",
    "        batch_loss.backward(retain_graph=False)\n",
    "        optimizer1.step()\n",
    "        optimizer2.step()\n",
    "\n",
    "        unuselist = [new_dial, new_tag, dial_leng]\n",
    "        del unuselist\n",
    "        \n",
    "        k = k + 1\n",
    "        \n",
    "        if k == 1:\n",
    "            break\n",
    "            \n",
    "        print(k)\n",
    "        if k%10 != 0:\n",
    "            torch.save(shared_model.state_dict(),working_path + 'parameter/shared.pth')\n",
    "            torch.save(comp_model.state_dict(),working_path + 'parameter/crf_gru.pth') #3.53 save with dummy\n",
    "            dummy_input = [make_mask(dial_leng),new_dial]\n",
    "            \n",
    "            print(\"tag = \",new_tag[7])\n",
    "            print(\"expect = \",comp_model(BATCH_SIZE,dummy_input,seq=7)[1])\n",
    "            print(\"accuracy = \", cal_accuracy(comp_model(BATCH_SIZE,dummy_input,seq=7)[1],new_tag[7]))\n",
    "            \n",
    "            print(loss)\n",
    "        if k == int(len(train_data)/BATCH_SIZE)*iter_num:\n",
    "            break\n",
    "            \n",
    "        if k % int(len(train_data)/BATCH_SIZE) == 0:\n",
    "            newary = newary_\n",
    "            newary_ = []\n",
    "    print(newary)\n",
    "    \n",
    "    return newary"
   ]
  },
  {
   "cell_type": "code",
   "execution_count": 19,
   "metadata": {
    "collapsed": false
   },
   "outputs": [
    {
     "name": "stdout",
     "output_type": "stream",
     "text": [
      "tensor([[[-6.4010e-02,  7.1903e-01,  6.1823e-01,  ...,  3.9984e-01,\n",
      "          -1.0932e-01, -1.7312e+00],\n",
      "         [-1.9888e+00,  3.0375e-01, -1.2334e+00,  ...,  1.1662e+00,\n",
      "          -4.0237e-01, -5.0372e-01],\n",
      "         [-6.3268e-01,  1.6851e+00, -7.6740e-01,  ..., -1.2149e+00,\n",
      "          -2.0391e-01,  4.4209e-01],\n",
      "         ...,\n",
      "         [ 7.6604e-01, -4.5329e-01, -9.5204e-01,  ..., -1.1796e-01,\n",
      "          -7.3638e-01,  1.3736e+00],\n",
      "         [-2.7988e-01, -1.0790e-01, -1.1011e+00,  ..., -1.1013e-01,\n",
      "           1.9102e-01,  1.6579e+00],\n",
      "         [-1.5484e+00,  6.2958e-01, -8.7390e-01,  ...,  1.4543e+00,\n",
      "          -5.9910e-01, -2.7030e-01]],\n",
      "\n",
      "        [[-3.3939e-01, -6.0895e-01,  1.0888e+00,  ..., -3.5105e-01,\n",
      "           5.6317e-01,  7.8285e-01],\n",
      "         [ 4.8802e-01, -8.6820e-02, -1.8796e+00,  ..., -4.4382e-01,\n",
      "           2.1503e+00, -1.5849e+00],\n",
      "         [ 8.2981e-02,  1.4814e+00,  5.5677e-01,  ..., -9.6178e-01,\n",
      "           1.7989e+00, -2.1169e+00],\n",
      "         ...,\n",
      "         [-3.2553e-01,  9.3181e-01,  4.3151e-01,  ...,  4.5771e-01,\n",
      "           5.7656e-02, -7.3831e-01],\n",
      "         [-5.0657e-01,  1.4987e+00,  2.8846e+00,  ..., -8.3960e-01,\n",
      "           1.6320e+00,  2.0242e+00],\n",
      "         [ 1.2472e+00,  4.3880e-01,  3.9532e-02,  ..., -7.2787e-03,\n",
      "           1.6318e+00,  1.0202e+00]]])\n"
     ]
    }
   ],
   "source": []
  },
  {
   "cell_type": "code",
   "execution_count": 20,
   "metadata": {
    "collapsed": false
   },
   "outputs": [
    {
     "data": {
      "text/plain": [
       "(tensor([[[-1.1793e-01,  1.1792e+00, -3.3370e-01,  ..., -4.9448e-02,\n",
       "           -6.8771e-01,  2.3439e-01],\n",
       "          [ 1.2098e-01,  4.0973e-02, -6.6107e-01,  ...,  3.8152e-01,\n",
       "           -2.4340e-01, -2.4051e-01],\n",
       "          [-1.0198e+00, -5.5639e-01,  8.2766e-02,  ...,  7.6325e-01,\n",
       "           -5.8140e-01, -2.4245e-01],\n",
       "          ...,\n",
       "          [ 7.6781e-01,  9.8579e-01, -3.4716e-01,  ..., -6.5801e-03,\n",
       "           -2.9974e-01, -1.8975e-02],\n",
       "          [ 5.0546e-01,  8.6346e-01,  3.1279e-02,  ...,  5.3067e-01,\n",
       "            4.0330e-01,  2.0547e-01],\n",
       "          [-6.1136e-01, -5.2947e-01,  9.5464e-01,  ..., -4.0955e-01,\n",
       "            4.8972e-01,  2.4979e-01]],\n",
       " \n",
       "         [[ 6.8290e-02,  5.9337e-01,  1.4649e-01,  ...,  1.7725e-02,\n",
       "           -2.6069e-01,  1.1376e-01],\n",
       "          [-4.1837e-01,  1.7344e-01, -7.1782e-01,  ...,  3.5297e-01,\n",
       "            1.0536e-01, -5.4529e-01],\n",
       "          [-8.5074e-01, -1.2458e-01, -3.8070e-01,  ...,  7.8022e-01,\n",
       "           -1.1806e+00, -1.2204e-01],\n",
       "          ...,\n",
       "          [-6.5725e-02,  8.1455e-01,  1.2630e-01,  ..., -3.3187e-01,\n",
       "           -3.4974e-01,  4.6986e-01],\n",
       "          [ 7.0006e-02,  5.3456e-01,  5.7260e-02,  ...,  1.8798e-01,\n",
       "            2.9785e-01,  4.6885e-01],\n",
       "          [-5.6324e-01, -3.8172e-01,  8.7137e-02,  ..., -1.1066e-01,\n",
       "            2.8054e-01, -2.7927e-01]]]),\n",
       " tensor([[[ 6.8290e-02,  5.9337e-01,  1.4649e-01,  ..., -6.9153e-01,\n",
       "           -5.1556e-01, -1.4145e-01],\n",
       "          [-4.1837e-01,  1.7344e-01, -7.1782e-01,  ...,  3.0707e-01,\n",
       "           -3.5170e-01,  2.6455e-01],\n",
       "          [-8.5074e-01, -1.2458e-01, -3.8070e-01,  ...,  1.0529e-01,\n",
       "           -2.9214e-01,  6.0602e-01],\n",
       "          ...,\n",
       "          [-6.5725e-02,  8.1455e-01,  1.2630e-01,  ...,  6.2575e-01,\n",
       "           -5.1984e-01,  5.0928e-01],\n",
       "          [ 7.0006e-02,  5.3456e-01,  5.7260e-02,  ...,  5.5875e-02,\n",
       "           -2.5673e-02,  4.5188e-01],\n",
       "          [-5.6324e-01, -3.8172e-01,  8.7137e-02,  ..., -6.3822e-01,\n",
       "            3.5106e-01, -1.1156e-01]],\n",
       " \n",
       "         [[-1.1852e-01,  6.0931e-01,  6.8310e-02,  ..., -4.9448e-02,\n",
       "           -6.8771e-01,  2.3439e-01],\n",
       "          [ 1.7501e-01,  1.0183e-01,  1.6331e-01,  ...,  3.8152e-01,\n",
       "           -2.4340e-01, -2.4051e-01],\n",
       "          [ 2.1686e-01,  1.6030e-01,  7.7773e-02,  ...,  7.6325e-01,\n",
       "           -5.8140e-01, -2.4245e-01],\n",
       "          ...,\n",
       "          [ 6.6349e-02, -1.0724e-01,  2.5024e-01,  ..., -6.5801e-03,\n",
       "           -2.9974e-01, -1.8975e-02],\n",
       "          [-3.7016e-01, -8.8301e-01, -1.3652e-01,  ...,  5.3067e-01,\n",
       "            4.0330e-01,  2.0547e-01],\n",
       "          [-5.9086e-01, -7.9081e-01, -1.1716e-01,  ..., -4.0955e-01,\n",
       "            4.8972e-01,  2.4979e-01]]]))"
      ]
     },
     "execution_count": 20,
     "metadata": {},
     "output_type": "execute_result"
    }
   ],
   "source": []
  },
  {
   "cell_type": "code",
   "execution_count": 9,
   "metadata": {
    "collapsed": false
   },
   "outputs": [
    {
     "data": {
      "text/plain": [
       "tensor([[ 0.9719,  0.1587,  0.8667,  0.4308,  0.3225,  0.7839,  0.3232,\n",
       "          0.3374],\n",
       "        [ 0.8198,  0.9398,  0.3241,  0.7783,  0.0813,  0.9192,  0.3575,\n",
       "          0.4030],\n",
       "        [ 0.9136,  0.0059,  0.7340,  0.9296,  0.5289,  0.7905,  0.6123,\n",
       "          0.6578]], dtype=torch.float64)"
      ]
     },
     "execution_count": 9,
     "metadata": {},
     "output_type": "execute_result"
    }
   ],
   "source": []
  },
  {
   "cell_type": "code",
   "execution_count": null,
   "metadata": {
    "collapsed": true
   },
   "outputs": [],
   "source": []
  }
 ],
 "metadata": {
  "anaconda-cloud": {},
  "kernelspec": {
   "display_name": "Python [conda env:anaconda3-4.2.0]",
   "language": "python",
   "name": "conda-env-anaconda3-4.2.0-py"
  },
  "language_info": {
   "codemirror_mode": {
    "name": "ipython",
    "version": 3
   },
   "file_extension": ".py",
   "mimetype": "text/x-python",
   "name": "python",
   "nbconvert_exporter": "python",
   "pygments_lexer": "ipython3",
   "version": "3.5.2"
  }
 },
 "nbformat": 4,
 "nbformat_minor": 2
}
