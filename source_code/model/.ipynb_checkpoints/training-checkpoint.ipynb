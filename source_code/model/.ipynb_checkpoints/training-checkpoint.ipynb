{
 "cells": [
  {
   "cell_type": "code",
   "execution_count": null,
   "metadata": {
    "collapsed": true
   },
   "outputs": [],
   "source": [
    "my_fields={'dial': ('Text', data.Field(sequential=True)),\n",
    "        'emo': ('labels_1', data.Field(sequential=False)),\n",
    "        'act': ('labels_2', data.Field(sequential=False))}\n",
    "\n",
    "train = my_TabularDataset.splits(path = working_path, train = 'data_jsonfile/full_data.json',\n",
    "                          fields=my_fields) \n",
    "train = sorted(train, key = lambda  x: cal_dialogue(x))\n",
    "train = train[:-1118] #exclude dialogue which has extremely long sentence (0~11117 => 0~9999)\n",
    "train = sorted(train, key = lambda  x: -len(x.Text)) #reordering training dataset with number of sentences\n",
    "# low index has much sentence because afterwards we use torch pad_sequence\n",
    "dataseq = torch.arange(end = len(train),dtype=torch.int)"
   ]
  },
  {
   "cell_type": "code",
   "execution_count": null,
   "metadata": {
    "collapsed": true
   },
   "outputs": [],
   "source": [
    "def loss_filtering(loss_arr, filtering_value, newary, batchnum):\n",
    "    \"\"\"\n",
    "    function for prevent overfitting\n",
    "    \n",
    "    Args:\n",
    "        loss_arr:\n",
    "            loss array for batch data\n",
    "        \n",
    "        filtering_value:\n",
    "            allowed maximum loss\n",
    "        \n",
    "        newary:\n",
    "            index for big loss data\n",
    "            \n",
    "        batchnum:\n",
    "            current batch count\n",
    "        \n",
    "        \n",
    "    Yields:\n",
    "        loss_arr:\n",
    "            filtered loss array for batch data\n",
    "    \n",
    "    \"\"\"\n",
    "    i = 0\n",
    "    err_count = 0\n",
    "    while i < len(loss_arr):\n",
    "        if loss_arr[i] < filtering_value:\n",
    "            loss_arr[i] = 0\n",
    "        elif loss_arr[i] > (filtering_value*4):\n",
    "            err_count = err_count + 1\n",
    "            newary.append(i + batchnum*100)\n",
    "        i = i + 1\n",
    "    print (\"###############################################errcount\",err_count)\n",
    "    return loss_arr, newary"
   ]
  },
  {
   "cell_type": "code",
   "execution_count": null,
   "metadata": {
    "collapsed": true
   },
   "outputs": [],
   "source": [
    "def train_func(train_data, shared_model , comp_model, dataseq, filtering_value, iter_num, batch_size, learning_rate):\n",
    "    \"\"\"\n",
    "    Args:\n",
    "            train_data: \n",
    "                train data\n",
    "                \n",
    "            shared_model:\n",
    "                shared model\n",
    "                \n",
    "            comp_model:\n",
    "                comp model\n",
    "                \n",
    "            dataseq:\n",
    "                data sort sequence\n",
    "                \n",
    "            filtering_value:\n",
    "                allowed maximum loss\n",
    "                \n",
    "            iter_num:\n",
    "                train iterate\n",
    "                \n",
    "            batch_size:\n",
    "                batchsize\n",
    "            \n",
    "            learning_rate:\n",
    "                learning_rate\n",
    "\n",
    "    Yields:\n",
    "            newary:\n",
    "                not trained data\n",
    "                which has loss bigger then filtering value\n",
    "    \n",
    "    \"\"\"\n",
    "    optimizer1 = optim.SGD(shared_model.parameters(), lr= learning_rate, weight_decay=1e-4)\n",
    "    optimizer2 = optim.SGD(comp_model.parameters(), lr= learning_rate, weight_decay=1e-4)\n",
    "    \n",
    "    newary_ = []\n",
    "    k = 0\n",
    "    for batch_data in batchload(train_data, repeat=True, batchsize = batch_size, data_seq = dataseq ):\n",
    "        #load txt data from jsonfile\n",
    "\n",
    "        shared_model.zero_grad()\n",
    "        comp_model.zero_grad()\n",
    "\n",
    "        new_dial, new_tag, dial_leng = all_preprocess(shared_model, batch_data)\n",
    "        #load batch*(dialogue_length*sent_vec(float)) -> new_dial\n",
    "        #load batch*tag -> new_tag\n",
    "        #load batch * dial_leng\n",
    "\n",
    "        loss = comp_model.neg_log_likelihood(make_mask(dial_leng), new_dial, new_tag, BATCH_SIZE)\n",
    "        loss,newary_ = loss_filtering(loss,filtering_value, newary_,k)\n",
    "        batch_loss = torch.sum(loss)\n",
    "        batch_loss.backward(retain_graph=False)\n",
    "        optimizer1.step()\n",
    "        optimizer2.step()\n",
    "\n",
    "        unuselist = [new_dial, new_tag, dial_leng]\n",
    "        del unuselist\n",
    "        \n",
    "        k = k + 1\n",
    "        print(k)\n",
    "        if k%10 != 0:\n",
    "            torch.save(shared_model.state_dict(),working_path + 'parameter/shared.pth')\n",
    "            torch.save(comp_model.state_dict(),working_path + 'parameter/crf_gru.pth') #3.53 save with dummy\n",
    "            dummy_input = [make_mask(dial_leng),new_dial]\n",
    "            \n",
    "            print(\"tag = \",new_tag[7])\n",
    "            print(\"expect = \",comp_model(BATCH_SIZE,dummy_input,seq=7)[1])\n",
    "            print(\"accuracy = \", cal_accuracy(comp_model(BATCH_SIZE,dummy_input,seq=7)[1],new_tag[7]))\n",
    "            \n",
    "            print(loss)\n",
    "        if k == int(len(train)/BATCH_SIZE)*iter_num:\n",
    "            break\n",
    "            \n",
    "        if k % int(len(train)/BATCH_SIZE) == 0:\n",
    "            newary = newary_\n",
    "            newary_ = []\n",
    "    print(newary)\n",
    "    \n",
    "    return newary"
   ]
  },
  {
   "cell_type": "code",
   "execution_count": null,
   "metadata": {
    "collapsed": true
   },
   "outputs": [],
   "source": [
    "errary = []\n",
    "errary = train_func(\n",
    "    train_data = train, \n",
    "    shared_model = sent_to_vextor_bigru_net, \n",
    "    comp_model = my_grucrf_model,\n",
    "    dataseq = dataseq, \n",
    "    filtering_value = 3, \n",
    "    iter_num = 1, \n",
    "    batch_size = 100,\n",
    "    learning_rate = 0.00003)\n",
    "\n"
   ]
  },
  {
   "cell_type": "code",
   "execution_count": null,
   "metadata": {
    "collapsed": true
   },
   "outputs": [],
   "source": [
    "'''\n",
    "retraining with earray\n",
    "dataseq = torch.tensor(errary, dtype=torch.int)\n",
    "newary = train_func(train, sent_to_vextor_bigru_net, my_grucrf_model, dataseq, 20, 1)\n",
    "'''"
   ]
  }
 ],
 "metadata": {
  "anaconda-cloud": {},
  "kernelspec": {
   "display_name": "Python [conda env:anaconda3-4.2.0]",
   "language": "python",
   "name": "conda-env-anaconda3-4.2.0-py"
  },
  "language_info": {
   "codemirror_mode": {
    "name": "ipython",
    "version": 3
   },
   "file_extension": ".py",
   "mimetype": "text/x-python",
   "name": "python",
   "nbconvert_exporter": "python",
   "pygments_lexer": "ipython3",
   "version": "3.5.2"
  }
 },
 "nbformat": 4,
 "nbformat_minor": 2
}
