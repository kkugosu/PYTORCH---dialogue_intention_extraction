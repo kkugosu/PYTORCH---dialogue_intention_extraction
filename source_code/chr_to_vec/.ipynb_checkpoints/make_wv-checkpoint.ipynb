{
 "cells": [
  {
   "cell_type": "code",
   "execution_count": 1,
   "metadata": {
    "collapsed": true
   },
   "outputs": [],
   "source": [
    "import numpy as np\n",
    "import sys\n",
    "import os\n",
    "#import tensorflow as tf\n",
    "\n",
    "import io\n",
    "from gensim.models import word2vec\n",
    "\n",
    "from io import StringIO\n",
    "from pprint import pprint\n",
    "\n",
    "from nltk.tokenize import word_tokenize\n",
    "import nltk\n"
   ]
  },
  {
   "cell_type": "code",
   "execution_count": 2,
   "metadata": {
    "collapsed": true
   },
   "outputs": [],
   "source": [
    "from __future__ import absolute_import\n",
    "from __future__ import division\n",
    "from __future__ import print_function\n",
    "\n",
    "import types\n",
    "from IPython import get_ipython #for import notebook\n",
    "from nbformat import read #for import notebook\n",
    "from IPython.core.interactiveshell import InteractiveShell #for import notebook"
   ]
  },
  {
   "cell_type": "code",
   "execution_count": 3,
   "metadata": {
    "collapsed": false
   },
   "outputs": [
    {
     "data": {
      "text/plain": [
       "'\\ncount = [(\\'UNK\\', -1)]\\ncount.extend(collections.Counter(tokens).most_common(13544 - 1))\\n\\nprint(count)\\n\\ncount[13543]\\ndictionary = dict()\\n\\nfor word, _ in count:\\n    dictionary[word] = len(dictionary)\\n    \\nprint(dictionary)\\nlen(dictionary)\\n\\n\\npp = dict()\\nlen(pp)\\npp[\"k\"] = len(pp)\\ndictionary[\\'UNK\\']\\n'"
      ]
     },
     "execution_count": 3,
     "metadata": {},
     "output_type": "execute_result"
    }
   ],
   "source": [
    "## how make word2vec\n",
    "'''\n",
    "count = [('UNK', -1)]\n",
    "count.extend(collections.Counter(tokens).most_common(13544 - 1))\n",
    "\n",
    "print(count)\n",
    "\n",
    "count[13543]\n",
    "dictionary = dict()\n",
    "\n",
    "for word, _ in count:\n",
    "    dictionary[word] = len(dictionary)\n",
    "    \n",
    "print(dictionary)\n",
    "len(dictionary)\n",
    "\n",
    "\n",
    "pp = dict()\n",
    "len(pp)\n",
    "pp[\"k\"] = len(pp)\n",
    "dictionary['UNK']\n",
    "'''"
   ]
  },
  {
   "cell_type": "code",
   "execution_count": 3,
   "metadata": {
    "collapsed": false
   },
   "outputs": [
    {
     "ename": "FileNotFoundError",
     "evalue": "[Errno 2] No such file or directory: './ijcnlp_dailydialog/dialogues_text.txt'",
     "output_type": "error",
     "traceback": [
      "\u001b[0;31m---------------------------------------------------------------------------\u001b[0m",
      "\u001b[0;31mFileNotFoundError\u001b[0m                         Traceback (most recent call last)",
      "\u001b[0;32m<ipython-input-3-32dcb4595aff>\u001b[0m in \u001b[0;36m<module>\u001b[0;34m()\u001b[0m\n\u001b[1;32m      3\u001b[0m \u001b[0mresults\u001b[0m \u001b[0;34m=\u001b[0m \u001b[0;34m[\u001b[0m\u001b[0;34m]\u001b[0m\u001b[0;34m\u001b[0m\u001b[0m\n\u001b[1;32m      4\u001b[0m \u001b[0;34m\u001b[0m\u001b[0m\n\u001b[0;32m----> 5\u001b[0;31m \u001b[0;32mwith\u001b[0m \u001b[0mopen\u001b[0m\u001b[0;34m(\u001b[0m\u001b[0;34m'./ijcnlp_dailydialog/dialogues_text.txt'\u001b[0m\u001b[0;34m)\u001b[0m \u001b[0;32mas\u001b[0m \u001b[0minputfile\u001b[0m\u001b[0;34m:\u001b[0m\u001b[0;34m\u001b[0m\u001b[0m\n\u001b[0m\u001b[1;32m      6\u001b[0m     \u001b[0;32mfor\u001b[0m \u001b[0mline\u001b[0m \u001b[0;32min\u001b[0m \u001b[0minputfile\u001b[0m\u001b[0;34m:\u001b[0m\u001b[0;34m\u001b[0m\u001b[0m\n\u001b[1;32m      7\u001b[0m         \u001b[0mresults\u001b[0m\u001b[0;34m.\u001b[0m\u001b[0mappend\u001b[0m\u001b[0;34m(\u001b[0m\u001b[0mline\u001b[0m\u001b[0;34m.\u001b[0m\u001b[0mstrip\u001b[0m\u001b[0;34m(\u001b[0m\u001b[0;34m)\u001b[0m\u001b[0;34m.\u001b[0m\u001b[0mreplace\u001b[0m\u001b[0;34m(\u001b[0m\u001b[0;34m'.'\u001b[0m\u001b[0;34m,\u001b[0m\u001b[0;34m' . '\u001b[0m\u001b[0;34m)\u001b[0m\u001b[0;34m.\u001b[0m\u001b[0msplit\u001b[0m\u001b[0;34m(\u001b[0m\u001b[0;34m'__eou__'\u001b[0m\u001b[0;34m)\u001b[0m\u001b[0;34m)\u001b[0m\u001b[0;34m\u001b[0m\u001b[0m\n",
      "\u001b[0;31mFileNotFoundError\u001b[0m: [Errno 2] No such file or directory: './ijcnlp_dailydialog/dialogues_text.txt'"
     ]
    }
   ],
   "source": [
    "#tokenize dialogues_train.txt\n",
    "\n",
    "results = []\n",
    "\n",
    "with open('./ijcnlp_dailydialog/dialogues_text.txt') as inputfile:\n",
    "    for line in inputfile:\n",
    "        results.append(line.strip().replace('.',' . ').split('__eou__'))\n",
    "\n",
    "results[:10]"
   ]
  },
  {
   "cell_type": "code",
   "execution_count": 5,
   "metadata": {
    "collapsed": false
   },
   "outputs": [
    {
     "name": "stdout",
     "output_type": "stream",
     "text": [
      "['The', 'kitchen', 'stinks', '.']\n"
     ]
    }
   ],
   "source": [
    "lenn = 0\n",
    "lenm = 0\n",
    "new_list = []\n",
    "\n",
    "while(lenm < len(results)):\n",
    "    lenn = 0\n",
    "    while(lenn < len(results[lenm])):\n",
    "        pp = [ele for ele in results[lenm][lenn].split(' ') if ele != '']\n",
    "        lenn = lenn + 1\n",
    "        if pp != []:\n",
    "            new_list.append(pp)\n",
    "    #print(lenm)\n",
    "    lenm = lenm + 1\n",
    "    \n",
    "print(new_list[0])"
   ]
  },
  {
   "cell_type": "code",
   "execution_count": 6,
   "metadata": {
    "collapsed": false
   },
   "outputs": [
    {
     "name": "stdout",
     "output_type": "stream",
     "text": [
      "102980\n"
     ]
    }
   ],
   "source": [
    "print(len(new_list))"
   ]
  },
  {
   "cell_type": "code",
   "execution_count": 7,
   "metadata": {
    "collapsed": false
   },
   "outputs": [
    {
     "data": {
      "text/plain": [
       "['So',\n",
       " 'Dick',\n",
       " ',',\n",
       " 'how',\n",
       " 'about',\n",
       " 'getting',\n",
       " 'some',\n",
       " 'coffee',\n",
       " 'for',\n",
       " 'tonight',\n",
       " '?']"
      ]
     },
     "execution_count": 7,
     "metadata": {},
     "output_type": "execute_result"
    }
   ],
   "source": [
    "new_list[2]"
   ]
  },
  {
   "cell_type": "code",
   "execution_count": 8,
   "metadata": {
    "collapsed": false
   },
   "outputs": [],
   "source": [
    "wv_model_en = word2vec.Word2Vec(size=100, window=5, min_count=5, workers=4)"
   ]
  },
  {
   "cell_type": "code",
   "execution_count": 9,
   "metadata": {
    "collapsed": false
   },
   "outputs": [],
   "source": [
    "if ( os.path.isfile(\"./dialogue_wv\") == False): ##wvmodel for english\n",
    "    \n",
    "    print(\"making en_model..\")\n",
    "    wv_model_en.build_vocab(new_list)\n",
    "    wv_model_en.train(new_list, total_examples=len(new_list), epochs=50)\n",
    "    wv_model_en.save('dialogue_wv')\n",
    "\n",
    "wv_model_en = word2vec.Word2Vec.load('dialogue_wv')"
   ]
  },
  {
   "cell_type": "code",
   "execution_count": 10,
   "metadata": {
    "collapsed": false
   },
   "outputs": [
    {
     "name": "stderr",
     "output_type": "stream",
     "text": [
      "/home/jongsu/.pyenv/versions/anaconda3-4.2.0/lib/python3.5/site-packages/ipykernel/__main__.py:1: DeprecationWarning: Call to deprecated `most_similar` (Method will be removed in 4.0.0, use self.wv.most_similar() instead).\n",
      "  if __name__ == '__main__':\n"
     ]
    },
    {
     "data": {
      "text/plain": [
       "[('crazy', 0.9852304458618164),\n",
       " ('Cindy', 0.982018768787384),\n",
       " ('John', 0.981898307800293),\n",
       " ('Mom', 0.979902446269989),\n",
       " ('upset', 0.9770824909210205),\n",
       " ('kidding', 0.9766833782196045),\n",
       " ('anyway', 0.9763739109039307),\n",
       " ('Mary', 0.9757673740386963),\n",
       " ('Steven', 0.9752898216247559),\n",
       " ('Helen', 0.9752265810966492)]"
      ]
     },
     "execution_count": 10,
     "metadata": {},
     "output_type": "execute_result"
    }
   ],
   "source": [
    "wv_model_en.most_similar('she')"
   ]
  },
  {
   "cell_type": "code",
   "execution_count": 15,
   "metadata": {
    "collapsed": false
   },
   "outputs": [
    {
     "data": {
      "text/plain": [
       "8511"
      ]
     },
     "execution_count": 15,
     "metadata": {},
     "output_type": "execute_result"
    }
   ],
   "source": [
    "len(wv_model_en.wv.vocab)"
   ]
  },
  {
   "cell_type": "code",
   "execution_count": null,
   "metadata": {
    "collapsed": true
   },
   "outputs": [],
   "source": []
  }
 ],
 "metadata": {
  "anaconda-cloud": {},
  "kernelspec": {
   "display_name": "Python [conda env:anaconda3-4.2.0]",
   "language": "python",
   "name": "conda-env-anaconda3-4.2.0-py"
  },
  "language_info": {
   "codemirror_mode": {
    "name": "ipython",
    "version": 3
   },
   "file_extension": ".py",
   "mimetype": "text/x-python",
   "name": "python",
   "nbconvert_exporter": "python",
   "pygments_lexer": "ipython3",
   "version": "3.5.2"
  }
 },
 "nbformat": 4,
 "nbformat_minor": 1
}
