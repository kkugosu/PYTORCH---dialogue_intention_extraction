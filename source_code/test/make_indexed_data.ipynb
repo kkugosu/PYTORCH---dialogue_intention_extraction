{
 "cells": [
  {
   "cell_type": "code",
   "execution_count": 1,
   "metadata": {
    "collapsed": false
   },
   "outputs": [],
   "source": [
    "import numpy as np\n",
    "import sys\n",
    "import os\n",
    "#import tensorflow as tf\n",
    "\n",
    "import io\n",
    "from gensim.models import word2vec\n",
    "\n",
    "from io import StringIO\n",
    "from pprint import pprint\n",
    "\n",
    "from nltk.tokenize import word_tokenize\n",
    "import nltk\n"
   ]
  },
  {
   "cell_type": "code",
   "execution_count": 2,
   "metadata": {
    "collapsed": true
   },
   "outputs": [],
   "source": [
    "from __future__ import absolute_import\n",
    "from __future__ import division\n",
    "from __future__ import print_function\n",
    "\n",
    "import types\n",
    "from IPython import get_ipython #for import notebook\n",
    "from nbformat import read #for import notebook\n",
    "from IPython.core.interactiveshell import InteractiveShell #for import notebook"
   ]
  },
  {
   "cell_type": "code",
   "execution_count": 3,
   "metadata": {
    "collapsed": true
   },
   "outputs": [],
   "source": [
    "def find_notebook(fullname, path=None): #for import notebook\n",
    "    \"\"\"find a notebook, given its fully qualified name and an optional path\n",
    "\n",
    "    This turns \"foo.bar\" into \"foo/bar.ipynb\"\n",
    "    and tries turning \"Foo_Bar\" into \"Foo Bar\" if Foo_Bar\n",
    "    does not exist.\n",
    "    \"\"\"\n",
    "    name = fullname.rsplit('.', 1)[-1]\n",
    "    if not path:\n",
    "        path = ['']\n",
    "    for d in path:\n",
    "        nb_path = os.path.join(d, name + \".ipynb\")\n",
    "        if os.path.isfile(nb_path):\n",
    "            return nb_path\n",
    "        # let import Notebook_Name find \"Notebook Name.ipynb\"\n",
    "        nb_path = nb_path.replace(\"_\", \" \")\n",
    "        if os.path.isfile(nb_path):\n",
    "            return nb_path"
   ]
  },
  {
   "cell_type": "code",
   "execution_count": 4,
   "metadata": {
    "collapsed": true
   },
   "outputs": [],
   "source": [
    "class NotebookLoader(object): #for import notebook\n",
    "    \"\"\"Module Loader for Jupyter Notebooks\"\"\"\n",
    "    def __init__(self, path=None):\n",
    "        self.shell = InteractiveShell.instance()\n",
    "        self.path = path\n",
    "\n",
    "    def load_module(self, fullname):\n",
    "        \"\"\"import a notebook as a module\"\"\"\n",
    "        path = find_notebook(fullname, self.path)\n",
    "\n",
    "        print (\"importing Jupyter notebook from %s\" % path)\n",
    "\n",
    "        # load the notebook object\n",
    "        with io.open(path, 'r', encoding='utf-8') as f:\n",
    "            nb = read(f, 4)\n",
    "\n",
    "\n",
    "        # create the module and add it to sys.modules\n",
    "        # if name in sys.modules:\n",
    "        #    return sys.modules[name]\n",
    "        mod = types.ModuleType(fullname)\n",
    "        mod.__file__ = path\n",
    "        mod.__loader__ = self\n",
    "        mod.__dict__['get_ipython'] = get_ipython\n",
    "        sys.modules[fullname] = mod\n",
    "\n",
    "        # extra work to ensure that magics that would affect the user_ns\n",
    "        # actually affect the notebook module's ns\n",
    "        save_user_ns = self.shell.user_ns\n",
    "        self.shell.user_ns = mod.__dict__\n",
    "\n",
    "        try:\n",
    "          for cell in nb.cells:\n",
    "            if cell.cell_type == 'code':\n",
    "                # transform the input to executable Python\n",
    "                code = self.shell.input_transformer_manager.transform_cell(cell.source)\n",
    "                # run the code in themodule\n",
    "                exec(code, mod.__dict__)\n",
    "        finally:\n",
    "            self.shell.user_ns = save_user_ns\n",
    "        return mod\n",
    "class NotebookFinder(object):\n",
    "    \"\"\"Module finder that locates Jupyter Notebooks\"\"\"\n",
    "    def __init__(self):\n",
    "        self.loaders = {}\n",
    "\n",
    "    def find_module(self, fullname, path=None):\n",
    "        nb_path = find_notebook(fullname, path)\n",
    "        if not nb_path:\n",
    "            return\n",
    "\n",
    "        key = path\n",
    "        if path:\n",
    "            # lists aren't hashable\n",
    "            key = os.path.sep.join(path)\n",
    "\n",
    "        if key not in self.loaders:\n",
    "            self.loaders[key] = NotebookLoader(path)\n",
    "        return self.loaders[key]"
   ]
  },
  {
   "cell_type": "code",
   "execution_count": 5,
   "metadata": {
    "collapsed": true
   },
   "outputs": [],
   "source": [
    "sys.meta_path.append(NotebookFinder())"
   ]
  },
  {
   "cell_type": "code",
   "execution_count": 6,
   "metadata": {
    "collapsed": true
   },
   "outputs": [],
   "source": [
    "def sent_loader(sentence):\n",
    "    result = []\n",
    "    for elem in sentence.split(' '):\n",
    "        if elem != '':\n",
    "            result = np.append(result, elem)\n",
    "    return result,len(result)"
   ]
  },
  {
   "cell_type": "code",
   "execution_count": null,
   "metadata": {
    "collapsed": true
   },
   "outputs": [],
   "source": [
    "wv_model_en = word2vec.Word2Vec(size=100, window=5, min_count=5, workers=4)\n",
    "wv_model_en = word2vec.Word2Vec.load('/home/jongsu/Desktop/persona_dialogue/wv_parameter/dialogue_wv')"
   ]
  },
  {
   "cell_type": "code",
   "execution_count": 16,
   "metadata": {
    "collapsed": true
   },
   "outputs": [],
   "source": [
    "#tokenize dialogues_test.txt\n",
    "results = []\n",
    "with open('/home/jongsu/Desktop/persona_dialogue/ijcnlp_dailydialog/test/dialogues_test.txt') as inputfile:\n",
    "    for line in inputfile:\n",
    "        results.append(line.strip().split('__eou__'))\n",
    "        \n",
    "full_idx = []\n",
    "transed = []\n",
    "i = 0\n",
    "\n",
    "while(i < len(results)):\n",
    "    \n",
    "    dial_to_idx = []\n",
    "    t_dial_to_idx = []\n",
    "    j = 0\n",
    "    while(j < len(results[i])):\n",
    "    \n",
    "        a,b = sent_loader(results[i][j])\n",
    "        idx = []\n",
    "        t_idx = []\n",
    "        k = 0\n",
    "        while(k < b):\n",
    "\n",
    "            try:\n",
    "                idx.append(wv_model_en.wv.vocab[a[k]].index) #good\n",
    "                t_idx.append(1)\n",
    "            except: #no data in voc\n",
    "                #print(a[k]) good\n",
    "                idx.append(a[k])\n",
    "                t_idx.append(0)\n",
    "            k = k + 1\n",
    "            \n",
    "            \n",
    "        dial_to_idx.append(idx)\n",
    "        t_dial_to_idx.append(t_idx)\n",
    "        j = j + 1\n",
    "        \n",
    "    i = i + 1\n",
    "    full_idx.append(dial_to_idx)\n",
    "    transed.append(t_dial_to_idx)\n",
    "\n",
    "#save dialogue\n",
    "np.save(\"/home/jongsu/Desktop/persona_dialogue/indexed_dataset/i_dt_test\",full_idx,allow_pickle=True)\n",
    "np.save(\"/home/jongsu/Desktop/persona_dialogue/indexed_dataset/t_dt_test\",transed,allow_pickle=True)"
   ]
  },
  {
   "cell_type": "code",
   "execution_count": 8,
   "metadata": {
    "collapsed": false
   },
   "outputs": [
    {
     "data": {
      "text/plain": [
       "[['Say , Jim , how about going for a few beers after dinner ? ',\n",
       "  ' You know that is tempting but is really not good for our fitness . ',\n",
       "  ' What do you mean ? It will help us to relax . ',\n",
       "  \" Do you really think so ? I don't . It will just make us fat and act silly . Remember last time ? \",\n",
       "  \" I guess you are right.But what shall we do ? I don't feel like sitting at home . \",\n",
       "  ' I suggest a walk over to the gym where we can play singsong and meet some of our friends . ',\n",
       "  \" That's a good idea . I hear Mary and Sally often go there to play pingpong.Perhaps we can make a foursome with them . \",\n",
       "  ' Sounds great to me ! If they are willing , we could ask them to go dancing with us.That is excellent exercise and fun , too . ',\n",
       "  \" Good.Let ' s go now . \",\n",
       "  ' All right . ',\n",
       "  ''],\n",
       " ['Can you do push-ups ? ',\n",
       "  \" Of course I can . It's a piece of cake ! Believe it or not , I can do 30 push-ups a minute . \",\n",
       "  \" Really ? I think that's impossible ! \",\n",
       "  ' You mean 30 push-ups ? ',\n",
       "  ' Yeah ! ',\n",
       "  \" It's easy . If you do exercise everyday , you can make it , too . \",\n",
       "  ''],\n",
       " ['Can you study with the radio on ? ',\n",
       "  ' No , I listen to background music . ',\n",
       "  ' What is the difference ? ',\n",
       "  ' The radio has too many comerials . ',\n",
       "  \" That's true , but then you have to buy a record player . \",\n",
       "  '']]"
      ]
     },
     "execution_count": 8,
     "metadata": {},
     "output_type": "execute_result"
    }
   ],
   "source": [
    "#tokenize dialogues_train.txt\n",
    "results = []\n",
    "with open('/home/jongsu/Desktop/persona_dialogue/ijcnlp_dailydialog/train/dialogues_train.txt') as inputfile:\n",
    "    for line in inputfile:\n",
    "        results.append(line.strip().split('__eou__'))\n",
    "        \n",
    "full_idx = []\n",
    "transed = []\n",
    "i = 0\n",
    "\n",
    "while(i < len(results)):\n",
    "    \n",
    "    dial_to_idx = []\n",
    "    t_dial_to_idx = []\n",
    "    j = 0\n",
    "    while(j < len(results[i])):\n",
    "    \n",
    "        a,b = sent_loader(results[i][j])\n",
    "        idx = []\n",
    "        t_idx = []\n",
    "        k = 0\n",
    "        while(k < b):\n",
    "\n",
    "            try:\n",
    "                idx.append(wv_model_en.wv.vocab[a[k]].index) #good\n",
    "                t_idx.append(1)\n",
    "            except: #no data in voc\n",
    "                #print(a[k]) good\n",
    "                idx.append(a[k])\n",
    "                t_idx.append(0)\n",
    "            k = k + 1\n",
    "            \n",
    "            \n",
    "        dial_to_idx.append(idx)\n",
    "        t_dial_to_idx.append(t_idx)\n",
    "        j = j + 1\n",
    "        \n",
    "    i = i + 1\n",
    "    full_idx.append(dial_to_idx)\n",
    "    transed.append(t_dial_to_idx)\n",
    "\n",
    "#save dialogue\n",
    "np.save(\"/home/jongsu/Desktop/persona_dialogue/indexed_dataset/i_dt\",full_idx,allow_pickle=True)\n",
    "np.save(\"/home/jongsu/Desktop/persona_dialogue/indexed_dataset/t_dt\",transed,allow_pickle=True)"
   ]
  },
  {
   "cell_type": "code",
   "execution_count": 17,
   "metadata": {
    "collapsed": true
   },
   "outputs": [],
   "source": [
    "#save action test\n",
    "results = []\n",
    "with open('/home/jongsu/Desktop/persona_dialogue/ijcnlp_dailydialog/test/dialogues_act_test.txt') as inputfile:\n",
    "    for line in inputfile:\n",
    "        results.append(line.strip())\n",
    "results[:10]\n",
    "np.save(\"/home/jongsu/Desktop/persona_dialogue/indexed_dataset/d_act_test\",results,allow_pickle=True)"
   ]
  },
  {
   "cell_type": "code",
   "execution_count": 14,
   "metadata": {
    "collapsed": false
   },
   "outputs": [],
   "source": [
    "#save action\n",
    "results = []\n",
    "with open('/home/jongsu/Desktop/persona_dialogue/ijcnlp_dailydialog/train/dialogues_act_train.txt') as inputfile:\n",
    "    for line in inputfile:\n",
    "        results.append(line.strip())\n",
    "results[:10]\n",
    "np.save(\"/home/jongsu/Desktop/persona_dialogue/indexed_dataset/d_act\",results,allow_pickle=True)"
   ]
  },
  {
   "cell_type": "code",
   "execution_count": 18,
   "metadata": {
    "collapsed": true
   },
   "outputs": [],
   "source": [
    "#save emotion test\n",
    "results = []\n",
    "with open('/home/jongsu/Desktop/persona_dialogue/ijcnlp_dailydialog/test/dialogues_emotion_test.txt') as inputfile:\n",
    "    for line in inputfile:\n",
    "        results.append(line.strip())\n",
    "\n",
    "np.save(\"/home/jongsu/Desktop/persona_dialogue/indexed_dataset/d_emo_test\",results,allow_pickle=True)"
   ]
  },
  {
   "cell_type": "code",
   "execution_count": 15,
   "metadata": {
    "collapsed": false
   },
   "outputs": [],
   "source": [
    "#save emotion\n",
    "results = []\n",
    "with open('/home/jongsu/Desktop/persona_dialogue/ijcnlp_dailydialog/train/dialogues_emotion_train.txt') as inputfile:\n",
    "    for line in inputfile:\n",
    "        results.append(line.strip())\n",
    "\n",
    "np.save(\"/home/jongsu/Desktop/persona_dialogue/indexed_dataset/d_emo\",results,allow_pickle=True)"
   ]
  },
  {
   "cell_type": "code",
   "execution_count": null,
   "metadata": {
    "collapsed": true
   },
   "outputs": [],
   "source": []
  }
 ],
 "metadata": {
  "anaconda-cloud": {},
  "kernelspec": {
   "display_name": "Python [conda env:anaconda3-4.2.0]",
   "language": "python",
   "name": "conda-env-anaconda3-4.2.0-py"
  },
  "language_info": {
   "codemirror_mode": {
    "name": "ipython",
    "version": 3
   },
   "file_extension": ".py",
   "mimetype": "text/x-python",
   "name": "python",
   "nbconvert_exporter": "python",
   "pygments_lexer": "ipython3",
   "version": "3.5.2"
  }
 },
 "nbformat": 4,
 "nbformat_minor": 1
}
