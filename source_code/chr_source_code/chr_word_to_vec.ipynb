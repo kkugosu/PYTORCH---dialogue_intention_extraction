{
 "cells": [
  {
   "cell_type": "code",
   "execution_count": 1,
   "metadata": {
    "collapsed": true
   },
   "outputs": [],
   "source": [
    "import torch\n",
    "import torch.nn as nn\n",
    "from torch import optim\n",
    "\n",
    "device = torch.device(\"cuda\" if torch.cuda.is_available() else \"cpu\")\n"
   ]
  },
  {
   "cell_type": "code",
   "execution_count": 2,
   "metadata": {
    "collapsed": true
   },
   "outputs": [],
   "source": [
    "import numpy as np\n",
    "import sys\n",
    "import os\n",
    "#import tensorflow as tf\n",
    "\n",
    "import io\n",
    "from gensim.models import word2vec\n",
    "\n",
    "from io import StringIO\n",
    "from pprint import pprint\n",
    "\n",
    "from nltk.tokenize import word_tokenize\n",
    "import nltk\n"
   ]
  },
  {
   "cell_type": "code",
   "execution_count": 14,
   "metadata": {
    "collapsed": false
   },
   "outputs": [],
   "source": [
    "class chr_rnn(nn.Module):\n",
    "    def __init__(self, hidden_size, bidirectional):\n",
    "        super(chr_rnn, self).__init__()\n",
    "        self.hidden_size = hidden_size\n",
    "        if(bidirectional == True):\n",
    "            self.bidirectional = 2\n",
    "        else:\n",
    "            self.bidirectional = 1\n",
    "        self.lastnet = nn.Linear(200,100)\n",
    "        self.chr_rnn = nn.GRU(100, 100, bidirectional = bidirectional)\n",
    "        \n",
    "        \n",
    "    def forward(self,char,h0):\n",
    "        print(np.shape(h0))\n",
    "        _,h0 = self.chr_rnn(char,h0)\n",
    "        print(np.shape(h0))\n",
    "        last_w = self.lastnet(h0)\n",
    "        \n",
    "        return last_w\n",
    "        \n",
    "    def initHidden(self):\n",
    "        return torch.zeros(self.bidirectional , 1, self.hidden_size, device=device)\n",
    "    \n",
    "\n",
    "  \n",
    "    \n",
    "chr_rnn_1 = chr_rnn(100, True).cuda()\n",
    "\n",
    "chr_optimizer = optim.SGD(chr_rnn_1.parameters(), lr=0.03)\n",
    "\n",
    "\n",
    "\n",
    "criterion = nn.MSELoss()"
   ]
  },
  {
   "cell_type": "code",
   "execution_count": 6,
   "metadata": {
    "collapsed": false
   },
   "outputs": [],
   "source": [
    "wv_model_en = word2vec.Word2Vec(size=100, window=5, min_count=5, workers=4)\n",
    "wv_model_en = word2vec.Word2Vec.load('/home/jongsu/Desktop/dialogue_wv')"
   ]
  },
  {
   "cell_type": "code",
   "execution_count": 7,
   "metadata": {
    "collapsed": false
   },
   "outputs": [],
   "source": [
    "if os.path.isfile('/home/jongsu/Desktop/persona_dialogue/chr_parameter/my_character_rnn_9.pth'):\n",
    "    print(\"loading chr\")\n",
    "    chr_rnn_1.load_state_dict(torch.load('/home/jongsu/Desktop/persona_dialogue/chr_parameter/my_character_rnn_9.pth'))\n",
    "    "
   ]
  },
  {
   "cell_type": "code",
   "execution_count": 19,
   "metadata": {
    "collapsed": false
   },
   "outputs": [
    {
     "name": "stdout",
     "output_type": "stream",
     "text": [
      "join\n",
      "()\n",
      "[106]\n",
      "[106, 111]\n",
      "[106, 111, 105]\n",
      "[106, 111, 105, 110]\n"
     ]
    },
    {
     "ename": "NameError",
     "evalue": "name 'last_net_1' is not defined",
     "output_type": "error",
     "traceback": [
      "\u001b[0;31m---------------------------------------------------------------------------\u001b[0m",
      "\u001b[0;31mNameError\u001b[0m                                 Traceback (most recent call last)",
      "\u001b[0;32m<ipython-input-19-8a4d617873e3>\u001b[0m in \u001b[0;36m<module>\u001b[0;34m()\u001b[0m\n\u001b[1;32m     31\u001b[0m \u001b[0;34m\u001b[0m\u001b[0m\n\u001b[1;32m     32\u001b[0m         \u001b[0mh0\u001b[0m \u001b[0;34m=\u001b[0m \u001b[0mh0\u001b[0m\u001b[0;34m.\u001b[0m\u001b[0mview\u001b[0m\u001b[0;34m(\u001b[0m\u001b[0;34m-\u001b[0m\u001b[0;36m1\u001b[0m\u001b[0;34m,\u001b[0m\u001b[0;36m200\u001b[0m\u001b[0;34m)\u001b[0m\u001b[0;34m\u001b[0m\u001b[0m\n\u001b[0;32m---> 33\u001b[0;31m         \u001b[0mh0_\u001b[0m \u001b[0;34m=\u001b[0m \u001b[0mlast_net_1\u001b[0m\u001b[0;34m(\u001b[0m\u001b[0mh0\u001b[0m\u001b[0;34m)\u001b[0m\u001b[0;34m\u001b[0m\u001b[0m\n\u001b[0m\u001b[1;32m     34\u001b[0m \u001b[0;34m\u001b[0m\u001b[0m\n\u001b[1;32m     35\u001b[0m         \u001b[0mloss\u001b[0m \u001b[0;34m=\u001b[0m \u001b[0mloss\u001b[0m \u001b[0;34m+\u001b[0m \u001b[0mcriterion\u001b[0m\u001b[0;34m(\u001b[0m\u001b[0mh0_\u001b[0m\u001b[0;34m.\u001b[0m\u001b[0mview\u001b[0m\u001b[0;34m(\u001b[0m\u001b[0;34m-\u001b[0m\u001b[0;36m1\u001b[0m\u001b[0;34m,\u001b[0m\u001b[0;36m1\u001b[0m\u001b[0;34m)\u001b[0m\u001b[0;34m,\u001b[0m\u001b[0mwv_value\u001b[0m\u001b[0;34m.\u001b[0m\u001b[0mview\u001b[0m\u001b[0;34m(\u001b[0m\u001b[0;34m-\u001b[0m\u001b[0;36m1\u001b[0m\u001b[0;34m,\u001b[0m\u001b[0;36m1\u001b[0m\u001b[0;34m)\u001b[0m\u001b[0;34m)\u001b[0m\u001b[0;34m\u001b[0m\u001b[0m\n",
      "\u001b[0;31mNameError\u001b[0m: name 'last_net_1' is not defined"
     ]
    }
   ],
   "source": [
    "#make character based wv\n",
    "iter = 0\n",
    "\n",
    "\n",
    "\n",
    "while(iter < 50): #train 500 times\n",
    "\n",
    "    i = 0\n",
    "    loss = 0\n",
    "    chr_optimizer.zero_grad()\n",
    "    totalloss = 0\n",
    "    for word, vocab_obj in wv_model_en.wv.vocab.items(): #all dataset = 251 * 25\n",
    "\n",
    "        p = 0\n",
    "        h0 = chr_rnn_1.initHidden()\n",
    "        #if(i > 30):\n",
    "        #    continue\n",
    "        print(word)\n",
    "        print(np.shape(word))\n",
    "        word_ = []\n",
    "        while(p < len(word)):\n",
    "            word_.append(ord(word[p])%100)\n",
    "        print(word_)\n",
    "        \n",
    "        gru_input = torch.tensor(np.zeros(shape = (len(word), 1, 100), dtype=\"float32\")).cuda()\n",
    "        gru_input[0][0][word_] = 1 ->ham su wha\n",
    "        #h0 = chr_rnn_1(gru_input, h0)\n",
    "        p = p + 1\n",
    "        \n",
    "\n",
    "\n",
    "        wv_value = torch.from_numpy(wv_model_en.wv[word]).cuda()\n",
    "\n",
    "        h0 = h0.view(-1,200)\n",
    "        h0_ = last_net_1(h0)\n",
    "\n",
    "        loss = loss + criterion(h0_.view(-1,1),wv_value.view(-1,1))\n",
    "        #print(loss)\n",
    "        totalloss = totalloss + loss\n",
    "\n",
    "        if i % 251 == 250: #batch size = 251\n",
    "            chr_optimizer.zero_grad()\n",
    "            loss.backward()\n",
    "            chr_optimizer.step()\n",
    "            loss = 0\n",
    "\n",
    "        i = i + 1\n",
    "\n",
    "\n",
    "    print(totalloss)\n",
    "    print(\"iter --------------------------------------\",iter)\n",
    "    iter = iter + 1\n",
    "\n",
    "    if iter%10 == 0:\n",
    "        print(h0_)\n",
    "        print(wv_value)\n",
    "        #print(list(chr_rnn.parameters()))\n",
    "\n",
    "    torch.save(chr_rnn_1.state_dict(),'/home/jongsu/Desktop/persona_dialogue/chr_parameter/my_character_rnn_527.pth')\n",
    "\n",
    "print(\"a\")\n",
    "\n",
    "\n"
   ]
  },
  {
   "cell_type": "code",
   "execution_count": null,
   "metadata": {
    "collapsed": true
   },
   "outputs": [],
   "source": []
  }
 ],
 "metadata": {
  "anaconda-cloud": {},
  "kernelspec": {
   "display_name": "Python [conda env:anaconda3-4.2.0]",
   "language": "python",
   "name": "conda-env-anaconda3-4.2.0-py"
  },
  "language_info": {
   "codemirror_mode": {
    "name": "ipython",
    "version": 3
   },
   "file_extension": ".py",
   "mimetype": "text/x-python",
   "name": "python",
   "nbconvert_exporter": "python",
   "pygments_lexer": "ipython3",
   "version": "3.5.2"
  }
 },
 "nbformat": 4,
 "nbformat_minor": 1
}
