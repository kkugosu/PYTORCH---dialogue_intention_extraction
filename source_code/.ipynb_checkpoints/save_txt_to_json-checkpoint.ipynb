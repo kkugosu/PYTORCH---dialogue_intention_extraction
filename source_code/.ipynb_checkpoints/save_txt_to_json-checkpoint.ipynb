{
 "cells": [
  {
   "cell_type": "code",
   "execution_count": 1,
   "metadata": {
    "collapsed": true
   },
   "outputs": [],
   "source": [
    "import numpy as np\n",
    "import re\n",
    "import json\n",
    "import io,os"
   ]
  },
  {
   "cell_type": "code",
   "execution_count": 2,
   "metadata": {
    "collapsed": true
   },
   "outputs": [],
   "source": [
    "train_path = '/home/jongsu/Desktop/ijcnlp_dailydialog/train/'\n",
    "test_path = '/home/jongsu/Desktop/ijcnlp_dailydialog/test/'\n",
    "Desktop_path = '/home/jongsu/Desktop/'\n",
    "\n",
    "# save raw data to parameter\n",
    "def preprocessing(path):\n",
    "    results = []\n",
    "    prog = re.compile('__eou__')  # re.compile\n",
    "\n",
    "    with open(path) as inputfile:\n",
    "        for line in inputfile:\n",
    "            results.append(prog.split(line.strip().replace('.', ' . ')))  # for tokenizing\n",
    "\n",
    "    return results\n",
    "\n",
    "\n",
    "#save parameter to json file\n",
    "def conc_jsonfile(text, emo, act, path, filename):\n",
    "    i = 0\n",
    "    res_list = []\n",
    "    while (i < len(results)):\n",
    "        new_results = {\"dial\": text[i], \"emo\": emo[i], \"act\": act[i]}\n",
    "        res_list.append(new_results)\n",
    "        i = i + 1\n",
    "\n",
    "    with open(path+filename, 'w') as f:\n",
    "        json.dump(res_list, f, ensure_ascii=False)\n",
    "\n",
    "    return res_list"
   ]
  },
  {
   "cell_type": "code",
   "execution_count": 3,
   "metadata": {
    "collapsed": true
   },
   "outputs": [],
   "source": [
    "#save raw data to parameter\n",
    "results = preprocessing(train_path + 'dialogues_train.txt')\n",
    "results_e = preprocessing(train_path + 'dialogues_emotion_train.txt')\n",
    "results_a = preprocessing(train_path + 'dialogues_act_train.txt')\n",
    "\n",
    "#save parameter to json file\n",
    "res_list = conc_jsonfile(results, results_e, results_a, Desktop_path, 'full_data.json')\n",
    "\n",
    "#save raw data to parameter\n",
    "results = preprocessing(test_path + 'dialogues_test.txt')\n",
    "results_e = preprocessing(test_path + 'dialogues_emotion_test.txt')\n",
    "results_a = preprocessing(test_path + 'dialogues_act_test.txt')\n",
    "\n",
    "#save parameter to json file\n",
    "res_list_test = conc_jsonfile(results, results_e, results_a, Desktop_path, 'full_data_test.json')"
   ]
  },
  {
   "cell_type": "code",
   "execution_count": 4,
   "metadata": {
    "collapsed": false
   },
   "outputs": [
    {
     "name": "stdout",
     "output_type": "stream",
     "text": [
      "list0 is \n",
      " {'act': ['3 4 2 2 2 3 4 1 3 4'], 'dial': ['Say , Jim , how about going for a few beers after dinner ? ', ' You know that is tempting but is really not good for our fitness  .  ', ' What do you mean ? It will help us to relax  .  ', \" Do you really think so ? I don't  .  It will just make us fat and act silly  .  Remember last time ? \", \" I guess you are right . But what shall we do ? I don't feel like sitting at home  .  \", ' I suggest a walk over to the gym where we can play singsong and meet some of our friends  .  ', \" That's a good idea  .  I hear Mary and Sally often go there to play pingpong . Perhaps we can make a foursome with them  .  \", ' Sounds great to me ! If they are willing , we could ask them to go dancing with us . That is excellent exercise and fun , too  .  ', \" Good . Let ' s go now  .  \", ' All right  .  ', ''], 'emo': ['0 0 0 0 0 0 4 4 4 4']}\n",
      "list0 dial is \n",
      " ['Say , Jim , how about going for a few beers after dinner ? ', ' You know that is tempting but is really not good for our fitness  .  ', ' What do you mean ? It will help us to relax  .  ', \" Do you really think so ? I don't  .  It will just make us fat and act silly  .  Remember last time ? \", \" I guess you are right . But what shall we do ? I don't feel like sitting at home  .  \", ' I suggest a walk over to the gym where we can play singsong and meet some of our friends  .  ', \" That's a good idea  .  I hear Mary and Sally often go there to play pingpong . Perhaps we can make a foursome with them  .  \", ' Sounds great to me ! If they are willing , we could ask them to go dancing with us . That is excellent exercise and fun , too  .  ', \" Good . Let ' s go now  .  \", ' All right  .  ', '']\n",
      "json length is \n",
      " 11118\n",
      "save jsonfile complete\n"
     ]
    }
   ],
   "source": [
    "#check jsonfile made\n",
    "print(\"list0 is \\n\", res_list[0])\n",
    "print(\"list0 dial is \\n\", res_list[0]['dial'])\n",
    "print(\"json length is \\n\", len(res_list))\n",
    "print(\"save jsonfile complete\")"
   ]
  },
  {
   "cell_type": "code",
   "execution_count": 5,
   "metadata": {
    "collapsed": false
   },
   "outputs": [
    {
     "name": "stdout",
     "output_type": "stream",
     "text": [
      "{'act': ['2 1 2 1 1 2 1 3 4'], 'dial': ['Hey John , nice skates  .  Are they new ? ', ' Yeah , I just got them  .  I started playing ice hockey in a community league  .  So , I finally got myself new skates  .  ', ' What position do you play ? ', ' I ’ m a defender  .  It ’ s a lot of fun  .  You don ’ t have to be able to skate as fast on defense  .  ', ' Yeah , you ’ re a pretty big guy  .  I play goalie , myself  .  ', ' Oh , yeah ? Which team ? ', ' The Rockets  .  ', ' Really ? I think we play you guys next week  .  Well , I have to go to practice  .  See you later  .  ', ' All right , see you later  .  ', ''], 'emo': ['0 0 0 0 0 6 0 6 0']}\n"
     ]
    }
   ],
   "source": [
    "i = 0\n",
    "with open('/home/jongsu/Desktop/full_data.json', encoding = 'UTF8') as f:\n",
    "    #not loads ,, load is work\n",
    "    for line in f:\n",
    "        k = json.loads(line) #in this case,, loads work\n",
    "\n",
    "\n",
    "print(k[4]) #load line complete, k is load file in list"
   ]
  },
  {
   "cell_type": "code",
   "execution_count": null,
   "metadata": {
    "collapsed": true
   },
   "outputs": [],
   "source": []
  }
 ],
 "metadata": {
  "kernelspec": {
   "display_name": "Python [conda env:anaconda3-4.2.0]",
   "language": "python",
   "name": "conda-env-anaconda3-4.2.0-py"
  },
  "language_info": {
   "codemirror_mode": {
    "name": "ipython",
    "version": 3
   },
   "file_extension": ".py",
   "mimetype": "text/x-python",
   "name": "python",
   "nbconvert_exporter": "python",
   "pygments_lexer": "ipython3",
   "version": "3.5.2"
  }
 },
 "nbformat": 4,
 "nbformat_minor": 2
}
